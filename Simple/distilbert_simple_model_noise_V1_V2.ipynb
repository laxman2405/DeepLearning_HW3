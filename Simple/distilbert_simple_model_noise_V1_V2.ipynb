{
 "cells": [
  {
   "cell_type": "code",
   "execution_count": 1,
   "id": "fbf3f9a9-3f91-4ae4-966e-a4926434170d",
   "metadata": {},
   "outputs": [],
   "source": [
    "import json\n",
    "import torch\n",
    "import torch.nn as nn\n",
    "from torch.utils.data import Dataset, DataLoader\n",
    "from transformers import AdamW, AutoModelForQuestionAnswering, AutoTokenizer\n",
    "import os\n",
    "import re\n",
    "import string\n",
    "from tqdm import tqdm\n",
    "from collections import Counter\n",
    "import matplotlib.pyplot as plt\n",
    "import import_ipynb\n",
    "import extract_transform_evaluate as fn\n",
    "\n",
    "device = torch.device('cuda') if torch.cuda.is_available() else torch.device('cpu')\n",
    "\n",
    "def train_model(self, dataloader, optimizer):\n",
    "    self.train()\n",
    "    accuracy_arr, loss_arr = [], []\n",
    "    for batch in tqdm(dataloader, desc='Training'):\n",
    "        optimizer.zero_grad()\n",
    "        input_ids = batch['input_ids'].to(self.device)\n",
    "        attention_mask = batch['attention_mask'].to(self.device)\n",
    "        start_pos = batch['start_positions'].to(self.device)\n",
    "        end_pos = batch['end_positions'].to(self.device)\n",
    "        start_res, end_res = self(input_ids=input_ids, attention_mask=attention_mask)\n",
    "        loss = self.find_focal_loss(start_res, end_res, start_pos, end_pos)\n",
    "        loss_arr.append(loss.item())\n",
    "        loss.backward()\n",
    "        optimizer.step()\n",
    "\n",
    "        start_pred = torch.argmax(start_res, dim=1)\n",
    "        end_pred = torch.argmax(end_res, dim=1)\n",
    "\n",
    "        accuracy_arr.append(((start_pred == start_pos).sum()/len(start_pred)).item())\n",
    "        accuracy_arr.append(((end_pred == end_pos).sum()/len(end_pred)).item())\n",
    "\n",
    "    return sum(accuracy_arr)/len(accuracy_arr), sum(loss_arr)/len(loss_arr)\n",
    "\n",
    "def plot_metrics(epochs, train_losses, train_accuracies, wer_scores, f1_scores):\n",
    "    metrics = {\n",
    "        'Training Loss': train_losses,\n",
    "        'Training Accuracy': train_accuracies,\n",
    "        'Word Error Rate (WER)': wer_scores,\n",
    "        'F1 Score': f1_scores\n",
    "    }\n",
    "\n",
    "    colors = ['blue','green','red','brown']\n",
    "    plt.figure(figsize=(12, 8))\n",
    "    \n",
    "    # Loop over metrics dictionary to create subplots\n",
    "    for i, (title, values) in enumerate(metrics.items(), start=1):\n",
    "        plt.subplot(2, 2, i)\n",
    "        plt.plot(epochs, values, marker='o', linestyle='-', color=colors[i-1])\n",
    "        plt.title(title)\n",
    "        plt.xlabel('Epoch')\n",
    "        plt.ylabel(title.split()[1])\n",
    "    \n",
    "    plt.tight_layout()\n",
    "    plt.show()"
   ]
  },
  {
   "cell_type": "code",
   "execution_count": 2,
   "id": "a55fe008-731e-4a13-8993-e9c83d99e2ed",
   "metadata": {},
   "outputs": [
    {
     "name": "stderr",
     "output_type": "stream",
     "text": [
      "Some weights of DistilBertForQuestionAnswering were not initialized from the model checkpoint at distilbert-base-uncased and are newly initialized: ['qa_outputs.bias', 'qa_outputs.weight']\n",
      "You should probably TRAIN this model on a down-stream task to be able to use it for predictions and inference.\n",
      "huggingface/tokenizers: The current process just got forked, after parallelism has already been used. Disabling parallelism to avoid deadlocks...\n",
      "To disable this warning, you can either:\n",
      "\t- Avoid using `tokenizers` before the fork if possible\n",
      "\t- Explicitly set the environment variable TOKENIZERS_PARALLELISM=(true | false)\n",
      "huggingface/tokenizers: The current process just got forked, after parallelism has already been used. Disabling parallelism to avoid deadlocks...\n",
      "To disable this warning, you can either:\n",
      "\t- Avoid using `tokenizers` before the fork if possible\n",
      "\t- Explicitly set the environment variable TOKENIZERS_PARALLELISM=(true | false)\n",
      "/home/lmadipa/.conda/envs/pytorch_env/lib/python3.11/site-packages/transformers/optimization.py:591: FutureWarning: This implementation of AdamW is deprecated and will be removed in a future version. Use the PyTorch implementation torch.optim.AdamW instead, or set `no_deprecation_warning=True` to disable this warning\n",
      "  warnings.warn(\n",
      "/local_scratch/slurm.977671/ipykernel_2060236/3653234796.py:27: FutureWarning: You are using `torch.load` with `weights_only=False` (the current default value), which uses the default pickle module implicitly. It is possible to construct malicious pickle data which will execute arbitrary code during unpickling (See https://github.com/pytorch/pytorch/blob/main/SECURITY.md#untrusted-models for more details). In a future release, the default value for `weights_only` will be flipped to `True`. This limits the functions that could be executed during unpickling. Arbitrary objects will no longer be allowed to be loaded via this mode unless they are explicitly allowlisted by the user via `torch.serialization.add_safe_globals`. We recommend you start setting `weights_only=True` for any use case where you don't have full control of the loaded file. Please open an issue on GitHub for any issues related to this experimental feature.\n",
      "  qa_model.load_state_dict(torch.load(os.path.join(MODEL_SAVE_PATH, 'model_weights.pt')))\n"
     ]
    },
    {
     "name": "stdout",
     "output_type": "stream",
     "text": [
      "Current working directory: /home/lmadipa/HW3/Simple\n",
      "MODEL_SAVE_PATH: qa_simple_model\n",
      "Directory exists: True\n",
      "qa_simple_model Model loaded!\n"
     ]
    },
    {
     "name": "stderr",
     "output_type": "stream",
     "text": [
      "Evaluating Model!: 100%|██████████| 17841/17841 [01:30<00:00, 197.48it/s]\n"
     ]
    },
    {
     "name": "stdout",
     "output_type": "stream",
     "text": [
      "WER Score: 2.9742701759786567\n",
      "F1 Score: 0.37362068735484877\n"
     ]
    }
   ],
   "source": [
    "#Noise V1\n",
    "train_data = '../spoken_train-v1.1.json'\n",
    "test_data = '../spoken_test-v1.1_WER44.json'\n",
    "MODEL_PATH = \"distilbert-base-uncased\"\n",
    "MODEL_SAVE_PATH = \"qa_simple_model\"\n",
    "\n",
    "tokenizer = AutoTokenizer.from_pretrained(MODEL_PATH)\n",
    "\n",
    "train_encodings = fn.collect_and_find_positions(train_data, tokenizer, 512)\n",
    "test_encodings = fn.collect_and_find_positions(test_data, tokenizer, 512)\n",
    "\n",
    "train_set = fn.SpokenSquad(train_encodings)\n",
    "test_set = fn.SpokenSquad(test_encodings)\n",
    "train_loader = DataLoader(train_set, batch_size=16, shuffle=True)\n",
    "test_loader = DataLoader(test_set, batch_size=1)\n",
    "\n",
    "distilbert_base_uncased__model = AutoModelForQuestionAnswering.from_pretrained(MODEL_PATH)\n",
    "qa_model = fn.QAModel(distilbert_base_uncased__model, device)\n",
    "optimizer = AdamW(qa_model.parameters(), lr=2e-5, weight_decay=2e-2)\n",
    "\n",
    "print(\"Current working directory:\", os.getcwd())\n",
    "print(\"MODEL_SAVE_PATH:\", MODEL_SAVE_PATH)\n",
    "print(\"Directory exists:\", os.path.isdir(MODEL_SAVE_PATH)) \n",
    "\n",
    "if os.path.isdir(MODEL_SAVE_PATH):\n",
    "    # Just Evaluate\n",
    "    qa_model.load_state_dict(torch.load(os.path.join(MODEL_SAVE_PATH, 'model_weights.pt')))\n",
    "    qa_model.to(device)\n",
    "    tokenizer = AutoTokenizer.from_pretrained(MODEL_SAVE_PATH)\n",
    "    print(f\"{MODEL_SAVE_PATH} Model loaded!\")\n",
    "    avg_f1_score, wer_score = qa_model.evaluate_model(test_loader, tokenizer)\n",
    "    print(f\"WER Score: {wer_score}\")\n",
    "    print(f\"F1 Score: {avg_f1_score}\")\n",
    "else:\n",
    "    # Train and Evaluate\n",
    "    wer_scores, accuracies, losses, f1_scores = [], [], [], []\n",
    "    epoch = 0\n",
    "    while epoch < 6:\n",
    "        print(f'Epoch - {epoch + 1}')\n",
    "        accuracy, loss = train_model(qa_model, train_loader, optimizer)\n",
    "        accuracies.append(accuracy)\n",
    "        losses.append(loss)\n",
    "        print(f\"Train Accuracy: {accuracy} and Train Loss: {loss}\")\n",
    "    \n",
    "        avg_f1_score, wer_score = qa_model.evaluate_model(test_loader, tokenizer)\n",
    "        f1_scores.append(avg_f1_score)\n",
    "        wer_scores.append(wer_score)\n",
    "        print(f\"F1 Score: {avg_f1_score} and WER Score: {wer_score}\")\n",
    "    \n",
    "        epoch += 1\n",
    "    os.makedirs(MODEL_SAVE_PATH)\n",
    "    torch.save(qa_model.state_dict(), os.path.join(MODEL_SAVE_PATH, 'model_weights.pt'))\n",
    "    tokenizer.save_pretrained(MODEL_SAVE_PATH)\n",
    "    plot_metrics(range(1, 7), losses, accuracies, wer_scores, f1_scores)"
   ]
  },
  {
   "cell_type": "code",
   "execution_count": 3,
   "id": "52d4f144-6e40-42a7-a571-55abff594d3c",
   "metadata": {},
   "outputs": [
    {
     "name": "stderr",
     "output_type": "stream",
     "text": [
      "Some weights of DistilBertForQuestionAnswering were not initialized from the model checkpoint at distilbert-base-uncased and are newly initialized: ['qa_outputs.bias', 'qa_outputs.weight']\n",
      "You should probably TRAIN this model on a down-stream task to be able to use it for predictions and inference.\n",
      "/local_scratch/slurm.977671/ipykernel_2060236/3354684925.py:45: FutureWarning: You are using `torch.load` with `weights_only=False` (the current default value), which uses the default pickle module implicitly. It is possible to construct malicious pickle data which will execute arbitrary code during unpickling (See https://github.com/pytorch/pytorch/blob/main/SECURITY.md#untrusted-models for more details). In a future release, the default value for `weights_only` will be flipped to `True`. This limits the functions that could be executed during unpickling. Arbitrary objects will no longer be allowed to be loaded via this mode unless they are explicitly allowlisted by the user via `torch.serialization.add_safe_globals`. We recommend you start setting `weights_only=True` for any use case where you don't have full control of the loaded file. Please open an issue on GitHub for any issues related to this experimental feature.\n",
      "  qa_model.load_state_dict(torch.load(os.path.join(MODEL_SAVE_PATH, 'model_weights.pt')))\n"
     ]
    },
    {
     "name": "stdout",
     "output_type": "stream",
     "text": [
      "qa_simple_model Model loaded!\n"
     ]
    },
    {
     "name": "stderr",
     "output_type": "stream",
     "text": [
      "Evaluating Model!: 100%|██████████| 17841/17841 [01:30<00:00, 197.86it/s]\n"
     ]
    },
    {
     "name": "stdout",
     "output_type": "stream",
     "text": [
      "WER Score: 4.083768656716418\n",
      "F1 Score: 0.28788094505899353\n"
     ]
    }
   ],
   "source": [
    "#Noise V2\n",
    "train_data = '../spoken_train-v1.1.json'\n",
    "test_data = '../spoken_test-v1.1_WER54.json'\n",
    "MODEL_PATH = \"distilbert-base-uncased\"\n",
    "MODEL_SAVE_PATH = \"qa_simple_model\"\n",
    "\n",
    "tokenizer = AutoTokenizer.from_pretrained(MODEL_PATH)\n",
    "\n",
    "train_encodings = fn.collect_and_find_positions(train_data, tokenizer, 512)\n",
    "test_encodings = fn.collect_and_find_positions(test_data, tokenizer, 512)\n",
    "\n",
    "train_set = fn.SpokenSquad(train_encodings)\n",
    "test_set = fn.SpokenSquad(test_encodings)\n",
    "train_loader = DataLoader(train_set, batch_size=16, shuffle=True)\n",
    "test_loader = DataLoader(test_set, batch_size=1)\n",
    "\n",
    "distilbert_base_uncased__model = AutoModelForQuestionAnswering.from_pretrained(MODEL_PATH)\n",
    "qa_model = fn.QAModel(distilbert_base_uncased__model, device)\n",
    "optimizer = AdamW(qa_model.parameters(), lr=2e-5, weight_decay=2e-2)\n",
    "\n",
    "if not os.path.isdir(MODEL_SAVE_PATH):\n",
    "    #Train and Evaluate\n",
    "    wer_scores, accuracies, losses, f1_scores  = [], [], [], []\n",
    "    epoch = 0\n",
    "    while epoch < 6:\n",
    "        print(f'Epoch - {epoch + 1}')\n",
    "        \n",
    "        accuracy, loss = bertFn.train_model(qa_model, train_loader, optimizer)\n",
    "        accuracies.append(accuracy)\n",
    "        losses.append(loss)\n",
    "        print(f\"Train Accuracy: {accuracy} and Train Loss: {loss}\")\n",
    "    \n",
    "        avg_f1_score, wer_score = qa_model.evaluate_model(test_loader, tokenizer)\n",
    "        f1_scores.append(avg_f1_score)\n",
    "        wer_scores.append(wer_score)\n",
    "        print(f\"F1 Score: {avg_f1_score} and WER Score: {wer_score}\")\n",
    "    \n",
    "        epoch += 1\n",
    "    os.makedirs(MODEL_SAVE_PATH, exist_ok=True)\n",
    "    torch.save(qa_model.state_dict(), os.path.join(MODEL_SAVE_PATH, 'model_weights.pt'))\n",
    "    tokenizer.save_pretrained(MODEL_SAVE_PATH)\n",
    "    bertFn.plot_metrics(range(1, 7), losses, accuracies, wer_scores, f1_scores)\n",
    "else:\n",
    "    #Just Evaluate\n",
    "    qa_model.load_state_dict(torch.load(os.path.join(MODEL_SAVE_PATH, 'model_weights.pt')))\n",
    "    qa_model.to(device)\n",
    "    tokenizer = AutoTokenizer.from_pretrained(MODEL_SAVE_PATH)\n",
    "    print(f\"{MODEL_SAVE_PATH} Model loaded!\")\n",
    "    avg_f1_score, wer_score = qa_model.evaluate_model(test_loader, tokenizer)\n",
    "\n",
    "    print(f\"WER Score: {wer_score}\")\n",
    "    print(f\"F1 Score: {avg_f1_score}\")"
   ]
  },
  {
   "cell_type": "code",
   "execution_count": null,
   "id": "92bd1a96-d9d9-4a84-b1c2-bb3e8af3cd43",
   "metadata": {},
   "outputs": [],
   "source": []
  }
 ],
 "metadata": {
  "kernelspec": {
   "display_name": "My Python",
   "language": "python",
   "name": "python_custom"
  },
  "language_info": {
   "codemirror_mode": {
    "name": "ipython",
    "version": 3
   },
   "file_extension": ".py",
   "mimetype": "text/x-python",
   "name": "python",
   "nbconvert_exporter": "python",
   "pygments_lexer": "ipython3",
   "version": "3.11.9"
  }
 },
 "nbformat": 4,
 "nbformat_minor": 5
}
