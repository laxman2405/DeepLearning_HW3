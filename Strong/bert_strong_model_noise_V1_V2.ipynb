{
 "cells": [
  {
   "cell_type": "code",
   "execution_count": 1,
   "id": "1650467b-4fcb-48eb-a5ed-2293e0893fc0",
   "metadata": {},
   "outputs": [],
   "source": [
    "import json\n",
    "import torch\n",
    "import torch.nn as nn\n",
    "from torch.utils.data import Dataset, DataLoader\n",
    "from transformers import AdamW, AutoModelForQuestionAnswering, AutoTokenizer\n",
    "import os\n",
    "import re\n",
    "import string\n",
    "from tqdm import tqdm\n",
    "from collections import Counter\n",
    "import matplotlib.pyplot as plt\n",
    "import import_ipynb\n",
    "import extract_transform_evaluate_ds as docstrideFn\n",
    "from torch.optim.lr_scheduler import ExponentialLR\n",
    "\n",
    "device = torch.device('cuda') if torch.cuda.is_available() else torch.device('cpu')\n",
    "\n",
    "def train_model(self, dataloader, optimizer, scheduler):\n",
    "    self.train()\n",
    "    accuracy_arr, loss_arr = [], []\n",
    "    for batch in tqdm(dataloader, desc='Training Started!'):\n",
    "        optimizer.zero_grad()\n",
    "        input_ids = batch['input_ids'].to(self.device)\n",
    "        attention_mask = batch['attention_mask'].to(self.device)\n",
    "        start_pos = batch['start_positions'].to(self.device)\n",
    "        end_pos = batch['end_positions'].to(self.device)\n",
    "        start_res, end_res = self(input_ids=input_ids, attention_mask=attention_mask)\n",
    "        loss = self.find_focal_loss(start_res, end_res, start_pos, end_pos)\n",
    "        loss_arr.append(loss.item())\n",
    "        loss.backward()\n",
    "        optimizer.step()\n",
    "\n",
    "        start_pred = torch.argmax(start_res, dim=1)\n",
    "        end_pred = torch.argmax(end_res, dim=1)\n",
    "\n",
    "        accuracy_arr.append(((start_pred == start_pos).sum()/len(start_pred)).item())\n",
    "        accuracy_arr.append(((end_pred == end_pos).sum()/len(end_pred)).item())\n",
    "    scheduler.step()\n",
    "    return sum(accuracy_arr)/len(accuracy_arr), sum(loss_arr)/len(loss_arr)\n",
    "\n",
    "def plot_metrics(epochs, train_losses, train_accuracies, wer_scores, f1_scores):\n",
    "    metrics = {\n",
    "        'Training Loss': train_losses,\n",
    "        'Training Accuracy': train_accuracies,\n",
    "        'Word Error Rate (WER)': wer_scores,\n",
    "        'F1 Score': f1_scores\n",
    "    }\n",
    "\n",
    "    colors = ['blue','green','red','brown']\n",
    "    plt.figure(figsize=(12, 8))\n",
    "    \n",
    "    # Loop over metrics dictionary to create subplots\n",
    "    for i, (title, values) in enumerate(metrics.items(), start=1):\n",
    "        plt.subplot(2, 2, i)\n",
    "        plt.plot(epochs, values, marker='o', linestyle='-', color=colors[i-1])\n",
    "        plt.title(title)\n",
    "        plt.xlabel('Epoch')\n",
    "        plt.ylabel(title.split()[1])\n",
    "    \n",
    "    plt.tight_layout()\n",
    "    plt.show()"
   ]
  },
  {
   "cell_type": "code",
   "execution_count": 2,
   "id": "4e475a29-6f1e-4e31-9cc6-f2e339c5b681",
   "metadata": {},
   "outputs": [
    {
     "name": "stderr",
     "output_type": "stream",
     "text": [
      "Some weights of the model checkpoint at bert-large-uncased-whole-word-masking-finetuned-squad were not used when initializing BertForQuestionAnswering: ['bert.pooler.dense.bias', 'bert.pooler.dense.weight']\n",
      "- This IS expected if you are initializing BertForQuestionAnswering from the checkpoint of a model trained on another task or with another architecture (e.g. initializing a BertForSequenceClassification model from a BertForPreTraining model).\n",
      "- This IS NOT expected if you are initializing BertForQuestionAnswering from the checkpoint of a model that you expect to be exactly identical (initializing a BertForSequenceClassification model from a BertForSequenceClassification model).\n",
      "huggingface/tokenizers: The current process just got forked, after parallelism has already been used. Disabling parallelism to avoid deadlocks...\n",
      "To disable this warning, you can either:\n",
      "\t- Avoid using `tokenizers` before the fork if possible\n",
      "\t- Explicitly set the environment variable TOKENIZERS_PARALLELISM=(true | false)\n",
      "huggingface/tokenizers: The current process just got forked, after parallelism has already been used. Disabling parallelism to avoid deadlocks...\n",
      "To disable this warning, you can either:\n",
      "\t- Avoid using `tokenizers` before the fork if possible\n",
      "\t- Explicitly set the environment variable TOKENIZERS_PARALLELISM=(true | false)\n",
      "/home/lmadipa/.conda/envs/pytorch_env/lib/python3.11/site-packages/transformers/optimization.py:591: FutureWarning: This implementation of AdamW is deprecated and will be removed in a future version. Use the PyTorch implementation torch.optim.AdamW instead, or set `no_deprecation_warning=True` to disable this warning\n",
      "  warnings.warn(\n",
      "/local_scratch/slurm.982931/ipykernel_211344/2852051840.py:28: FutureWarning: You are using `torch.load` with `weights_only=False` (the current default value), which uses the default pickle module implicitly. It is possible to construct malicious pickle data which will execute arbitrary code during unpickling (See https://github.com/pytorch/pytorch/blob/main/SECURITY.md#untrusted-models for more details). In a future release, the default value for `weights_only` will be flipped to `True`. This limits the functions that could be executed during unpickling. Arbitrary objects will no longer be allowed to be loaded via this mode unless they are explicitly allowlisted by the user via `torch.serialization.add_safe_globals`. We recommend you start setting `weights_only=True` for any use case where you don't have full control of the loaded file. Please open an issue on GitHub for any issues related to this experimental feature.\n",
      "  qa_model.load_state_dict(torch.load(os.path.join(MODEL_SAVE_PATH, 'model_weights.pt')))\n"
     ]
    },
    {
     "name": "stdout",
     "output_type": "stream",
     "text": [
      "Current working directory: /home/lmadipa/HW3/Strong\n",
      "MODEL_SAVE_PATH: qa_strong_model\n",
      "Directory exists: True\n",
      "qa_strong_model Model loaded!\n"
     ]
    },
    {
     "name": "stderr",
     "output_type": "stream",
     "text": [
      "Evaluating Model!: 100%|██████████| 17841/17841 [03:53<00:00, 76.32it/s]\n"
     ]
    },
    {
     "name": "stdout",
     "output_type": "stream",
     "text": [
      "WER Score: 1.8800556801484805\n",
      "F1 Score: 0.4884262998399399\n"
     ]
    }
   ],
   "source": [
    "#Noise V1\n",
    "train_data = '../spoken_train-v1.1.json'\n",
    "test_data = '../spoken_test-v1.1_WER44.json'\n",
    "MODEL_PATH = \"bert-large-uncased-whole-word-masking-finetuned-squad\"\n",
    "\n",
    "tokenizer = AutoTokenizer.from_pretrained(MODEL_PATH)\n",
    "\n",
    "train_encodings = docstrideFn.collect_and_find_positions(train_data, tokenizer, 512)\n",
    "test_encodings = docstrideFn.collect_and_find_positions(test_data, tokenizer, 512)\n",
    "\n",
    "train_set = docstrideFn.SpokenSquad(train_encodings)\n",
    "test_set = docstrideFn.SpokenSquad(test_encodings)\n",
    "train_loader = DataLoader(train_set, batch_size=16, shuffle=True)\n",
    "test_loader = DataLoader(test_set, batch_size=1)\n",
    "\n",
    "bert_large_uncased_model = AutoModelForQuestionAnswering.from_pretrained(MODEL_PATH)\n",
    "qa_model = docstrideFn.QAModel(bert_large_uncased_model, device)\n",
    "optimizer = AdamW(qa_model.parameters(), lr=2e-5, weight_decay=2e-2)\n",
    "\n",
    "MODEL_SAVE_PATH = \"qa_strong_model\"\n",
    "\n",
    "print(\"Current working directory:\", os.getcwd())\n",
    "print(\"MODEL_SAVE_PATH:\", MODEL_SAVE_PATH)\n",
    "print(\"Directory exists:\", os.path.isdir(MODEL_SAVE_PATH)) \n",
    "scheduler = ExponentialLR(optimizer, gamma=0.9)\n",
    "if os.path.isdir(MODEL_SAVE_PATH):\n",
    "    # Just Evaluate\n",
    "    qa_model.load_state_dict(torch.load(os.path.join(MODEL_SAVE_PATH, 'model_weights.pt')))\n",
    "    qa_model.to(device)\n",
    "    tokenizer = AutoTokenizer.from_pretrained(MODEL_SAVE_PATH)\n",
    "    print(f\"{MODEL_SAVE_PATH} Model loaded!\")\n",
    "    avg_f1_score, wer_score = qa_model.evaluate_model(test_loader, tokenizer)\n",
    "    print(f\"WER Score: {wer_score}\")\n",
    "    print(f\"F1 Score: {avg_f1_score}\")\n",
    "else:\n",
    "    # Train and Evaluate\n",
    "    wer_scores, accuracies, losses, f1_scores = [], [], [], []\n",
    "    epoch = 0\n",
    "    while epoch < 6:\n",
    "        print(f'Epoch - {epoch + 1}')\n",
    "        accuracy, loss = train_model(qa_model, train_loader, optimizer, scheduler)\n",
    "        accuracies.append(accuracy)\n",
    "        losses.append(loss)\n",
    "        print(f\"Train Accuracy: {accuracy} and Train Loss: {loss}\")\n",
    "    \n",
    "        avg_f1_score, wer_score = qa_model.evaluate_model(test_loader, tokenizer)\n",
    "        f1_scores.append(avg_f1_score)\n",
    "        wer_scores.append(wer_score)\n",
    "        print(f\"F1 Score: {avg_f1_score} and WER Score: {wer_score}\")\n",
    "    \n",
    "        epoch += 1\n",
    "    os.makedirs(MODEL_SAVE_PATH)\n",
    "    torch.save(qa_model.state_dict(), os.path.join(MODEL_SAVE_PATH, 'model_weights.pt'))\n",
    "    tokenizer.save_pretrained(MODEL_SAVE_PATH)\n",
    "    plot_metrics(range(1, 7), losses, accuracies, wer_scores, f1_scores)"
   ]
  },
  {
   "cell_type": "code",
   "execution_count": 3,
   "id": "3502745d-8286-4623-8789-f9f7d741bacd",
   "metadata": {},
   "outputs": [
    {
     "name": "stderr",
     "output_type": "stream",
     "text": [
      "Some weights of the model checkpoint at bert-large-uncased-whole-word-masking-finetuned-squad were not used when initializing BertForQuestionAnswering: ['bert.pooler.dense.bias', 'bert.pooler.dense.weight']\n",
      "- This IS expected if you are initializing BertForQuestionAnswering from the checkpoint of a model trained on another task or with another architecture (e.g. initializing a BertForSequenceClassification model from a BertForPreTraining model).\n",
      "- This IS NOT expected if you are initializing BertForQuestionAnswering from the checkpoint of a model that you expect to be exactly identical (initializing a BertForSequenceClassification model from a BertForSequenceClassification model).\n",
      "/local_scratch/slurm.982931/ipykernel_211344/2390710803.py:25: FutureWarning: You are using `torch.load` with `weights_only=False` (the current default value), which uses the default pickle module implicitly. It is possible to construct malicious pickle data which will execute arbitrary code during unpickling (See https://github.com/pytorch/pytorch/blob/main/SECURITY.md#untrusted-models for more details). In a future release, the default value for `weights_only` will be flipped to `True`. This limits the functions that could be executed during unpickling. Arbitrary objects will no longer be allowed to be loaded via this mode unless they are explicitly allowlisted by the user via `torch.serialization.add_safe_globals`. We recommend you start setting `weights_only=True` for any use case where you don't have full control of the loaded file. Please open an issue on GitHub for any issues related to this experimental feature.\n",
      "  qa_model.load_state_dict(torch.load(os.path.join(MODEL_SAVE_PATH, 'model_weights.pt')))\n"
     ]
    },
    {
     "name": "stdout",
     "output_type": "stream",
     "text": [
      "qa_strong_model Model loaded!\n"
     ]
    },
    {
     "name": "stderr",
     "output_type": "stream",
     "text": [
      "Evaluating Model!: 100%|██████████| 17841/17841 [03:53<00:00, 76.35it/s]\n"
     ]
    },
    {
     "name": "stdout",
     "output_type": "stream",
     "text": [
      "WER Score: 2.716631736995214\n",
      "F1 Score: 0.40775785935154174\n"
     ]
    }
   ],
   "source": [
    "#Noise V2\n",
    "train_data = '../spoken_train-v1.1.json'\n",
    "test_data = '../spoken_test-v1.1_WER54.json'\n",
    "MODEL_PATH = \"bert-large-uncased-whole-word-masking-finetuned-squad\"\n",
    "\n",
    "tokenizer = AutoTokenizer.from_pretrained(MODEL_PATH)\n",
    "\n",
    "train_encodings = docstrideFn.collect_and_find_positions(train_data, tokenizer, 512)\n",
    "test_encodings = docstrideFn.collect_and_find_positions(test_data, tokenizer, 512)\n",
    "\n",
    "train_set = docstrideFn.SpokenSquad(train_encodings)\n",
    "test_set = docstrideFn.SpokenSquad(test_encodings)\n",
    "train_loader = DataLoader(train_set, batch_size=16, shuffle=True)\n",
    "test_loader = DataLoader(test_set, batch_size=1)\n",
    "\n",
    "bert_large_uncased_model = AutoModelForQuestionAnswering.from_pretrained(MODEL_PATH)\n",
    "qa_model = docstrideFn.QAModel(bert_large_uncased_model, device)\n",
    "optimizer = AdamW(qa_model.parameters(), lr=2e-5, weight_decay=2e-2)\n",
    "\n",
    "MODEL_SAVE_PATH = \"qa_strong_model\"\n",
    "\n",
    "scheduler = ExponentialLR(optimizer, gamma=0.9)\n",
    "if os.path.isdir(MODEL_SAVE_PATH):\n",
    "    # Just Evaluate\n",
    "    qa_model.load_state_dict(torch.load(os.path.join(MODEL_SAVE_PATH, 'model_weights.pt')))\n",
    "    qa_model.to(device)\n",
    "    tokenizer = AutoTokenizer.from_pretrained(MODEL_SAVE_PATH)\n",
    "    print(f\"{MODEL_SAVE_PATH} Model loaded!\")\n",
    "    avg_f1_score, wer_score = qa_model.evaluate_model(test_loader, tokenizer)\n",
    "    print(f\"WER Score: {wer_score}\")\n",
    "    print(f\"F1 Score: {avg_f1_score}\")\n",
    "else:\n",
    "    # Train and Evaluate\n",
    "    wer_scores, accuracies, losses, f1_scores = [], [], [], []\n",
    "    epoch = 0\n",
    "    while epoch < 6:\n",
    "        print(f'Epoch - {epoch + 1}')\n",
    "        accuracy, loss = train_model(qa_model, train_loader, optimizer, scheduler)\n",
    "        accuracies.append(accuracy)\n",
    "        losses.append(loss)\n",
    "        print(f\"Train Accuracy: {accuracy} and Train Loss: {loss}\")\n",
    "    \n",
    "        avg_f1_score, wer_score = qa_model.evaluate_model(test_loader, tokenizer)\n",
    "        f1_scores.append(avg_f1_score)\n",
    "        wer_scores.append(wer_score)\n",
    "        print(f\"F1 Score: {avg_f1_score} and WER Score: {wer_score}\")\n",
    "    \n",
    "        epoch += 1\n",
    "    os.makedirs(MODEL_SAVE_PATH)\n",
    "    torch.save(qa_model.state_dict(), os.path.join(MODEL_SAVE_PATH, 'model_weights.pt'))\n",
    "    tokenizer.save_pretrained(MODEL_SAVE_PATH)\n",
    "    plot_metrics(range(1, 7), losses, accuracies, wer_scores, f1_scores)"
   ]
  },
  {
   "cell_type": "code",
   "execution_count": null,
   "id": "13e817d4-c777-4f9a-a31c-d4eeb463723b",
   "metadata": {},
   "outputs": [],
   "source": []
  }
 ],
 "metadata": {
  "kernelspec": {
   "display_name": "My Python",
   "language": "python",
   "name": "python_custom"
  },
  "language_info": {
   "codemirror_mode": {
    "name": "ipython",
    "version": 3
   },
   "file_extension": ".py",
   "mimetype": "text/x-python",
   "name": "python",
   "nbconvert_exporter": "python",
   "pygments_lexer": "ipython3",
   "version": "3.11.9"
  }
 },
 "nbformat": 4,
 "nbformat_minor": 5
}
